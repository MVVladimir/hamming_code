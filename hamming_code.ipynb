{
 "cells": [
  {
   "cell_type": "markdown",
   "metadata": {},
   "source": [
    "# Лаболаторная работа №2. Код Хемминга и контрольные суммы\n",
    "\n",
    "Машуров Владимир БПМ-19-3"
   ]
  },
  {
   "cell_type": "markdown",
   "metadata": {},
   "source": [
    "## Код"
   ]
  },
  {
   "cell_type": "markdown",
   "metadata": {},
   "source": [
    "Библиотеки и переменные"
   ]
  },
  {
   "cell_type": "code",
   "execution_count": 257,
   "metadata": {},
   "outputs": [],
   "source": [
    "import zlib\n",
    "import copy\n",
    "import random\n",
    "\n",
    "from tqdm import tqdm\n",
    "import numpy as np\n",
    "\n",
    "WORD_LEN = 82\n",
    "RESERVED = 8\n",
    "MSG_LEN = WORD_LEN - RESERVED"
   ]
  },
  {
   "cell_type": "markdown",
   "metadata": {},
   "source": [
    "Функции для перевода между типами и представлениями данных"
   ]
  },
  {
   "cell_type": "code",
   "execution_count": 258,
   "metadata": {},
   "outputs": [],
   "source": [
    "def text_to_bits(text, encoding=\"utf-8\"):\n",
    "    bits = bin(int.from_bytes(text.encode(encoding), \"big\"))[2:]\n",
    "    return bits.zfill(8 * ((len(bits) + 7) // 8))\n",
    " \n",
    " \n",
    "def text_from_bits(bits, encoding=\"utf-8\"):\n",
    "    n = int(bits, 2)\n",
    "    return n.to_bytes((n.bit_length() + 7) // 8, \"big\").decode(encoding) or \"\\0\"\n",
    "\n",
    "def str_generator(str: str, word_len: int=75):\n",
    "        i = 0\n",
    "        while i * word_len < len(str):\n",
    "            yield str[i * word_len: word_len * (i+1)]\n",
    "            i += 1\n",
    "\n",
    "def str2bytes(word: str):\n",
    "    b = 0\n",
    "    word = word[::-1]\n",
    "    for i, sign in enumerate(word):\n",
    "        if int(sign) == 1:\n",
    "            b += 2 ** i\n",
    "    return b.to_bytes(16, 'big')"
   ]
  },
  {
   "cell_type": "markdown",
   "metadata": {},
   "source": [
    "Класс сообщения, где и реализован алгоритм"
   ]
  },
  {
   "cell_type": "code",
   "execution_count": 259,
   "metadata": {},
   "outputs": [],
   "source": [
    "class Message():\n",
    "    def __init__(self, msg: str) -> None:\n",
    "        self.msg = msg\n",
    "        self.msg_encoded = text_to_bits(self.msg)\n",
    "        self.words = [i for i in str_generator(self.msg_encoded, word_len=MSG_LEN)]\n",
    "        self.fixed_words = 0\n",
    "        self.unfixed_words = 0\n",
    "\n",
    "    def set_tale(self, word: str) -> str:\n",
    "        sum1 = 0\n",
    "        sum2 = 0\n",
    "        sum4 = 0\n",
    "        sum8 = 0\n",
    "        sum16 = 0\n",
    "        sum32 = 0\n",
    "        sum64 = 0\n",
    "        checksum = 0\n",
    "\n",
    "        for i in range(len(word)):\n",
    "            checksum += int(word[i])\n",
    "            if i in self.resp1:\n",
    "                sum1 += int(word[i])\n",
    "            if i in self.resp2:\n",
    "                sum2 += int(word[i])\n",
    "            if i in self.resp4:\n",
    "                sum4 += int(word[i])\n",
    "            if i in self.resp8:\n",
    "                sum8 += int(word[i])\n",
    "            if i in self.resp16:\n",
    "                sum16 += int(word[i])\n",
    "            if i in self.resp32:\n",
    "                sum32 += int(word[i])\n",
    "            if i in self.resp64:\n",
    "                sum64 += int(word[i])\n",
    "\n",
    "        word = list(word)\n",
    "        word.append(str(sum1 % 2))\n",
    "        word.append(str(sum2 % 2))\n",
    "        word.append(str(sum4 % 2))\n",
    "        word.append(str(sum8 % 2))\n",
    "        word.append(str(sum16 % 2))\n",
    "        word.append(str(sum32 % 2))\n",
    "        word.append(str(sum64 % 2))\n",
    "        word.append(str(checksum % 2))\n",
    "        word = \"\".join(word)\n",
    "        return word\n",
    "\n",
    "    def encode(self) -> None:\n",
    "        self.resp1 = np.array([np.array(range(1))   + i      for i in range(100) if i % 2 == 1]).reshape(-1) - 1\n",
    "        self.resp2 = np.array([np.array(range(2))   + i * 2  for i in range(100) if i % 2 == 1]).reshape(-1) - 1\n",
    "        self.resp4 = np.array([np.array(range(4))   + i * 4  for i in range(100) if i % 2 == 1]).reshape(-1) - 1\n",
    "        self.resp8 = np.array([np.array(range(8))   + i * 8  for i in range(100) if i % 2 == 1]).reshape(-1) - 1\n",
    "        self.resp16 = np.array([np.array(range(16)) + i * 16 for i in range(100) if i % 2 == 1]).reshape(-1) - 1\n",
    "        self.resp32 = np.array([np.array(range(32)) + i * 32 for i in range(100) if i % 2 == 1]).reshape(-1) - 1\n",
    "        self.resp64 = np.array([np.array(range(64)) + i * 64 for i in range(100) if i % 2 == 1]).reshape(-1) - 1\n",
    "\n",
    "        for word_id, word in enumerate(self.words):\n",
    "            word = self.set_tale(word)\n",
    "            self.words[word_id] = word\n",
    "\n",
    "    @staticmethod\n",
    "    def get_tale(word: str):\n",
    "        tale  = word[-RESERVED:]\n",
    "        sum1     = tale[0]\n",
    "        sum2     = tale[1]\n",
    "        sum4     = tale[2]\n",
    "        sum8     = tale[3]\n",
    "        sum16    = tale[4]\n",
    "        sum32    = tale[5]\n",
    "        sum64   =  tale[6]\n",
    "        checksum = tale[7]\n",
    "        return sum1, sum2, sum4, sum8, sum16, sum32, sum64, checksum\n",
    "\n",
    "\n",
    "    def detect_errors(self, new_msg):\n",
    "\n",
    "        log =  \"| word n | crc | checksum | err_index | multiple | \\n\"\n",
    "        log += \"|---|---|---|---|---| \\n\"\n",
    "\n",
    "        for i, word in tqdm(enumerate(new_msg.words)):\n",
    "\n",
    "            word = self.set_tale(word=word[:-RESERVED])\n",
    "\n",
    "            crc_new = zlib.crc32(str2bytes(word))\n",
    "            crc_orig = zlib.crc32(str2bytes(self.words[i]))\n",
    "\n",
    "            log += f\"| {i} | {crc_orig == crc_new} |\"\n",
    "            \n",
    "            err_occlusions = []\n",
    "            sum1, sum2, sum4, sum8, sum16, sum32, sum64, checksum = self.get_tale(word)\n",
    "            sum1_self, sum2_self, sum4_self, sum8_self, sum16_self, sum32_self, sum64_self, checksum_self = self.get_tale(self.words[i])\n",
    "\n",
    "            log += f\" {checksum_self == checksum} |\"\n",
    "\n",
    "            if sum1 != sum1_self:\n",
    "                err_occlusions.append(1)\n",
    "            if sum2 != sum2_self:\n",
    "                err_occlusions.append(2)\n",
    "            if sum4 != sum4_self:\n",
    "                err_occlusions.append(4)\n",
    "            if sum8 != sum8_self:\n",
    "                err_occlusions.append(8)\n",
    "            if sum16 != sum16_self:\n",
    "                err_occlusions.append(16)\n",
    "            if sum32 != sum32_self:\n",
    "                err_occlusions.append(32)\n",
    "            if sum64 != sum64_self:\n",
    "                err_occlusions.append(64)\n",
    "\n",
    "            err_index = sum(err_occlusions)\n",
    "            log += f\" {err_index} |\"\n",
    "            err_index -= 1\n",
    "\n",
    "            if err_index > -1: \n",
    "                try:\n",
    "                    fixed_word = copy.copy(word)\n",
    "                    fixed_word = list(fixed_word)\n",
    "                    fixed_word[err_index] = self.words[i][err_index]\n",
    "                    fixed_word = \"\".join(fixed_word)\n",
    "                    fixed_word = fixed_word[:-RESERVED]\n",
    "                    fixed_word = self.set_tale(fixed_word)\n",
    "\n",
    "                    if zlib.crc32(str2bytes(fixed_word)) != zlib.crc32(str2bytes(self.words[i])):\n",
    "                        log += \" True | \\n\"\n",
    "                        new_msg.unfixed_words += 1\n",
    "                    else:\n",
    "                        new_msg.fixed_words += 1\n",
    "                        log += \" False | \\n\"\n",
    "                except:\n",
    "                    log += \" True | \\n\"\n",
    "                    new_msg.unfixed_words += 1\n",
    "            else:\n",
    "                log += \" False | \\n\"\n",
    "            \n",
    "        return log"
   ]
  },
  {
   "cell_type": "markdown",
   "metadata": {},
   "source": [
    "## Небольшой пример работы"
   ]
  },
  {
   "cell_type": "code",
   "execution_count": 260,
   "metadata": {},
   "outputs": [],
   "source": [
    "foo = Message(\"tree, сегодня christmas!\")\n",
    "foo.encode()"
   ]
  },
  {
   "cell_type": "markdown",
   "metadata": {},
   "source": [
    "Испортим значение в 4-м бите"
   ]
  },
  {
   "cell_type": "code",
   "execution_count": 261,
   "metadata": {},
   "outputs": [],
   "source": [
    "new_msg = copy.copy(foo.msg_encoded)\n",
    "new_msg = list(new_msg)\n",
    "new_msg[3] = '0'\n",
    "new_msg[100] = '1'\n",
    "new_msg[101] = '1'\n",
    "new_msg = \"\".join(new_msg)\n",
    "new_msg = text_from_bits(new_msg)\n",
    "new_msg = Message(new_msg)\n",
    "new_msg.encode()"
   ]
  },
  {
   "cell_type": "markdown",
   "metadata": {},
   "source": [
    "Заметим, что сообщение изменилось. t стало d"
   ]
  },
  {
   "cell_type": "code",
   "execution_count": 262,
   "metadata": {},
   "outputs": [
    {
     "data": {
      "text/plain": [
       "'dree, сегܾдня christmas!'"
      ]
     },
     "execution_count": 262,
     "metadata": {},
     "output_type": "execute_result"
    }
   ],
   "source": [
    "new_msg.msg"
   ]
  },
  {
   "cell_type": "markdown",
   "metadata": {},
   "source": [
    "Детектируем ошибки и логируем"
   ]
  },
  {
   "cell_type": "code",
   "execution_count": 263,
   "metadata": {},
   "outputs": [
    {
     "name": "stderr",
     "output_type": "stream",
     "text": [
      "4it [00:00, 426.77it/s]\n"
     ]
    }
   ],
   "source": [
    "log = foo.detect_errors(new_msg=new_msg)\n",
    "with open(\"./logs\", \"w\") as log_file:\n",
    "    log_file.write(log)"
   ]
  },
  {
   "attachments": {},
   "cell_type": "markdown",
   "metadata": {},
   "source": [
    "Мы получили следующую таблицу, где \n",
    "\n",
    "- word n -- номер пакета;\n",
    "- crc -- совпадают ли crc32 контрольные суммы сообщений;\n",
    "- checksum -- совпадает ли контрольная сумма, в последнем бите слова;\n",
    "- err_index -- вычисленный индекс поврежденного бита. 0 значит, что ошибок не обнаружено;\n",
    "- multiple -- если ошибка более, чем в одном бите, то примет значение True.\n",
    "\n",
    "\n",
    "| word n | crc | checksum | err_index | multiple | \n",
    "|---|---|---|---|---| \n",
    "| 0 | False | False | 4 | False | \n",
    "| 1 | False | True | 7 | True | \n",
    "| 2 | True | True | 0 | False | \n",
    "| 3 | True | True | 0 | False | \n"
   ]
  },
  {
   "cell_type": "code",
   "execution_count": 264,
   "metadata": {},
   "outputs": [
    {
     "name": "stdout",
     "output_type": "stream",
     "text": [
      "Исправленных слов 1\n",
      "Не исправленных слов 1\n"
     ]
    }
   ],
   "source": [
    "print(f\"Исправленных слов {new_msg.fixed_words}\")\n",
    "print(f\"Не исправленных слов {new_msg.unfixed_words}\")"
   ]
  },
  {
   "attachments": {},
   "cell_type": "markdown",
   "metadata": {},
   "source": [
    "# Пример со статьёй из Википедии"
   ]
  },
  {
   "attachments": {},
   "cell_type": "markdown",
   "metadata": {},
   "source": [
    "Был выбран следующий текст:\n",
    "```\n",
    "Тра́вля (бу́ллинг — англ. bullying в переводе запугивание) — агрессивное преследование и издевательство над одним из членов коллектива (особенно коллектива школьников и студентов, но также и коллег) со стороны другого, но также часто группы лиц, не обязательно из одного формального или признаваемого другими коллектива. Травлю организует один агрессор (хулиган), иногда с сообщниками, а большинство остаются свидетелями. При травле жертва оказывается не в состоянии защитить себя от нападок, таким образом, травля отличается от конфликта, где силы сторон примерно равны. Травля может быть и в физической, и в психологической форме. Проявляется во всех возрастных и социальных группах. В сложных случаях может принять некоторые черты групповой преступности. В качестве особой формы травли выделяют групповую травлю («травля толпы»), большинством или всеми членами коллектива (микросообщества), часто начальником, работодателем (жарг. «моббинг»). Как проявления травли специалисты расценивают оскорбления, угрозы, физическую агрессию, постоянную негативную оценку жертвы и её деятельности, отказ в доверии и делегировании полномочий и так далее. Есть случаи, когда жертвами травли становились учителя[2]. Объединяет всех жертв одна черта: чаще всего объектами издевательств становятся дети и подростки, обладающие повышенной чувствительностью, показывающие свою «слабость» (страх, обиду или злость). Их реакция соответствует ожиданиям агрессоров, рождая искомое ощущение превосходства[4]. Мальчики чаще являются жертвами и инициаторами школьной травли. Методы травли отличаются в зависимости от пола жертвы: мальчиков чаще бьют, а про девочек одноклассницы, как правило, распускают порочащие слухи[2][5]. По мнению педагога-психолога Людмилы Петрановской, «это иллюзия, что для <роли козла отпущения> надо быть каким-то особо ненормальным. В общем и целом причина травли — не в особенностях жертвы, а в особенностях группы. Один и тот же ребёнок может быть изгоем в одной группе и своим в другой. Или перестать быть изгоем в той же самой за короткий срок, скажем, после смены классного руководителя»[6]. Большую роль в школьной травле играет гендерный надзор — действия, направленные на принуждение к следованию предписанным гендерным нормам (для девочек — быть женственными, для мальчиков — быть мужественными). Во многом в связи с тем, такие действия не носят явно выраженного антисоциального характера, а напротив, связаны с доминирующими в обществе установками, «травящие» во многих случаях не получают реального осуждения со стороны взрослых. Гендерный надзор тесно связан с гетеронормативностью. Травля мальчиков, вне зависимости от их реальной сексуальной ориентации, как правило, активно сопровождается гомофобными оскорблениями. Среди оскорблений девочек преобладают слатшейминговые[7][8].\n",
    "```"
   ]
  },
  {
   "cell_type": "code",
   "execution_count": 265,
   "metadata": {},
   "outputs": [],
   "source": [
    "wiki_msg = \"Тра́вля (бу́ллинг — англ. bullying в переводе запугивание) — агрессивное преследование и издевательство над одним из членов коллектива (особенно коллектива школьников и студентов, но также и коллег) со стороны другого, но также часто группы лиц, не обязательно из одного формального или признаваемого другими коллектива. Травлю организует один агрессор (хулиган), иногда с сообщниками, а большинство остаются свидетелями. При травле жертва оказывается не в состоянии защитить себя от нападок, таким образом, травля отличается от конфликта, где силы сторон примерно равны. Травля может быть и в физической, и в психологической форме. Проявляется во всех возрастных и социальных группах. В сложных случаях может принять некоторые черты групповой преступности. В качестве особой формы травли выделяют групповую травлю («травля толпы»), большинством или всеми членами коллектива (микросообщества), часто начальником, работодателем (жарг. «моббинг»). Как проявления травли специалисты расценивают оскорбления, угрозы, физическую агрессию, постоянную негативную оценку жертвы и её деятельности, отказ в доверии и делегировании полномочий и так далее. Есть случаи, когда жертвами травли становились учителя[2]. Объединяет всех жертв одна черта: чаще всего объектами издевательств становятся дети и подростки, обладающие повышенной чувствительностью, показывающие свою «слабость» (страх, обиду или злость). Их реакция соответствует ожиданиям агрессоров, рождая искомое ощущение превосходства[4]. Мальчики чаще являются жертвами и инициаторами школьной травли. Методы травли отличаются в зависимости от пола жертвы: мальчиков чаще бьют, а про девочек одноклассницы, как правило, распускают порочащие слухи[2][5]. По мнению педагога-психолога Людмилы Петрановской, «это иллюзия, что для <роли козла отпущения> надо быть каким-то особо ненормальным. В общем и целом причина травли — не в особенностях жертвы, а в особенностях группы. Один и тот же ребёнок может быть изгоем в одной группе и своим в другой. Или перестать быть изгоем в той же самой за короткий срок, скажем, после смены классного руководителя»[6]. Большую роль в школьной травле играет гендерный надзор — действия, направленные на принуждение к следованию предписанным гендерным нормам (для девочек — быть женственными, для мальчиков — быть мужественными). Во многом в связи с тем, такие действия не носят явно выраженного антисоциального характера, а напротив, связаны с доминирующими в обществе установками, «травящие» во многих случаях не получают реального осуждения со стороны взрослых. Гендерный надзор тесно связан с гетеронормативностью. Травля мальчиков, вне зависимости от их реальной сексуальной ориентации, как правило, активно сопровождается гомофобными оскорблениями. Среди оскорблений девочек преобладают слатшейминговые[7][8].\"\n",
    "wiki_msg = Message(wiki_msg)\n",
    "wiki_msg.encode()"
   ]
  },
  {
   "attachments": {},
   "cell_type": "markdown",
   "metadata": {},
   "source": [
    "### Без ошибок"
   ]
  },
  {
   "attachments": {},
   "cell_type": "markdown",
   "metadata": {},
   "source": [
    "В данном случае, разумеется, не было исправлено ни одного слова."
   ]
  },
  {
   "cell_type": "code",
   "execution_count": 266,
   "metadata": {},
   "outputs": [
    {
     "name": "stderr",
     "output_type": "stream",
     "text": [
      "554it [00:00, 906.26it/s]\n"
     ]
    }
   ],
   "source": [
    "new_msg = copy.copy(wiki_msg.msg_encoded)\n",
    "new_msg = text_from_bits(new_msg)\n",
    "new_msg = Message(new_msg)\n",
    "new_msg.encode()\n",
    "\n",
    "log = wiki_msg.detect_errors(new_msg=new_msg)\n",
    "with open(\"./logs_no_errs\", \"w\") as log_file:\n",
    "    log_file.write(log)"
   ]
  },
  {
   "cell_type": "code",
   "execution_count": 267,
   "metadata": {},
   "outputs": [
    {
     "name": "stdout",
     "output_type": "stream",
     "text": [
      "Исправленных слов 0 из 0\n",
      "Не исправленных слов 0 из 0\n",
      "Исправленных ошибок 0 из 0\n"
     ]
    }
   ],
   "source": [
    "print(f\"Исправленных слов {new_msg.fixed_words} из {new_msg.fixed_words + new_msg.unfixed_words}\")\n",
    "print(f\"Не исправленных слов {new_msg.unfixed_words} из {new_msg.fixed_words + new_msg.unfixed_words}\")\n",
    "print(f\"Исправленных ошибок {new_msg.fixed_words} из 0\")"
   ]
  },
  {
   "attachments": {},
   "cell_type": "markdown",
   "metadata": {},
   "source": [
    "### Не более одной ошибки на слово"
   ]
  },
  {
   "attachments": {},
   "cell_type": "markdown",
   "metadata": {},
   "source": [
    "Зашумляем сигнал, не более одной ошибки на слово."
   ]
  },
  {
   "cell_type": "code",
   "execution_count": 268,
   "metadata": {},
   "outputs": [],
   "source": [
    "good_msg = copy.deepcopy(wiki_msg.words)\n",
    "new_msg =  copy.deepcopy(wiki_msg)\n",
    "err_count = 0\n",
    "\n",
    "for i in range(len(new_msg.words)):\n",
    "    if random.randint(0, 1) == 0:\n",
    "        err_count += 1\n",
    "        rand_idx = random.randint(0, len(new_msg.words[i])-RESERVED-1)\n",
    "\n",
    "        new_msg.words[i] = list(new_msg.words[i])\n",
    "\n",
    "        if good_msg[i][rand_idx] == '0':\n",
    "            new_msg.words[i][rand_idx] = '1'\n",
    "        else:\n",
    "            new_msg.words[i][rand_idx] = '0'\n",
    "\n",
    "        new_msg.words[i] = \"\".join(new_msg.words[i])"
   ]
  },
  {
   "attachments": {},
   "cell_type": "markdown",
   "metadata": {},
   "source": [
    "Есть возможность логировать таблицу Markdown"
   ]
  },
  {
   "cell_type": "code",
   "execution_count": 269,
   "metadata": {},
   "outputs": [
    {
     "name": "stderr",
     "output_type": "stream",
     "text": [
      "554it [00:00, 623.55it/s]\n"
     ]
    }
   ],
   "source": [
    "log = wiki_msg.detect_errors(new_msg=new_msg)\n",
    "with open(\"./logs_one_err\", \"w\") as log_file:\n",
    "    log_file.write(log)"
   ]
  },
  {
   "attachments": {},
   "cell_type": "markdown",
   "metadata": {},
   "source": [
    "Статистика по испревленным словам"
   ]
  },
  {
   "cell_type": "code",
   "execution_count": 270,
   "metadata": {},
   "outputs": [
    {
     "name": "stdout",
     "output_type": "stream",
     "text": [
      "Исправленных слов 276 из 276\n",
      "Не исправленных слов 0 из 276\n",
      "Исправленных ошибок 276 из 276\n"
     ]
    }
   ],
   "source": [
    "print(f\"Исправленных слов {new_msg.fixed_words} из {new_msg.fixed_words + new_msg.unfixed_words}\")\n",
    "print(f\"Не исправленных слов {new_msg.unfixed_words} из {new_msg.fixed_words + new_msg.unfixed_words}\")\n",
    "print(f\"Исправленных ошибок {new_msg.fixed_words} из {err_count}\")"
   ]
  },
  {
   "attachments": {},
   "cell_type": "markdown",
   "metadata": {},
   "source": [
    "### Более одной ошибкии на слово"
   ]
  },
  {
   "attachments": {},
   "cell_type": "markdown",
   "metadata": {},
   "source": [
    "Зашумляем сигнал, не более пяти ошибок на слово"
   ]
  },
  {
   "cell_type": "code",
   "execution_count": 271,
   "metadata": {},
   "outputs": [],
   "source": [
    "good_msg = copy.deepcopy(wiki_msg.words)\n",
    "new_msg =  copy.deepcopy(wiki_msg)\n",
    "err_count = 0\n",
    "\n",
    "for i in range(len(new_msg.words)):\n",
    "    added_to_word_errs = set()\n",
    "    for _ in range(random.randint(0, 5)):\n",
    "        rand_idx = random.randint(0, len(new_msg.words[i])-RESERVED-1)\n",
    "        added_to_word_errs.add(rand_idx)\n",
    "\n",
    "        new_msg.words[i] = list(new_msg.words[i])\n",
    "\n",
    "        if good_msg[i][rand_idx] == '0':\n",
    "            new_msg.words[i][rand_idx] = '1'\n",
    "        else:\n",
    "            new_msg.words[i][rand_idx] = '0'\n",
    "\n",
    "        new_msg.words[i] = \"\".join(new_msg.words[i])\n",
    "    err_count += len(added_to_word_errs)"
   ]
  },
  {
   "cell_type": "markdown",
   "metadata": {},
   "source": [
    "Есть возможность логировать таблицу Markdown"
   ]
  },
  {
   "cell_type": "code",
   "execution_count": 272,
   "metadata": {},
   "outputs": [
    {
     "name": "stderr",
     "output_type": "stream",
     "text": [
      "554it [00:01, 553.76it/s]\n"
     ]
    }
   ],
   "source": [
    "log = wiki_msg.detect_errors(new_msg=new_msg)\n",
    "with open(\"./logs_multiple_errs\", \"w\") as log_file:\n",
    "    log_file.write(log)"
   ]
  },
  {
   "cell_type": "markdown",
   "metadata": {},
   "source": [
    "Статистика по испревленным словам"
   ]
  },
  {
   "cell_type": "code",
   "execution_count": 273,
   "metadata": {},
   "outputs": [
    {
     "name": "stdout",
     "output_type": "stream",
     "text": [
      "Исправленных слов 106 из 463\n",
      "Не исправленных слов 357 из 463\n",
      "Исправленных ошибок 106 из 1396\n"
     ]
    }
   ],
   "source": [
    "print(f\"Исправленных слов {new_msg.fixed_words} из {new_msg.fixed_words + new_msg.unfixed_words}\")\n",
    "print(f\"Не исправленных слов {new_msg.unfixed_words} из {new_msg.fixed_words + new_msg.unfixed_words}\")\n",
    "print(f\"Исправленных ошибок {new_msg.fixed_words} из {err_count}\")"
   ]
  }
 ],
 "metadata": {
  "kernelspec": {
   "display_name": "base",
   "language": "python",
   "name": "python3"
  },
  "language_info": {
   "codemirror_mode": {
    "name": "ipython",
    "version": 3
   },
   "file_extension": ".py",
   "mimetype": "text/x-python",
   "name": "python",
   "nbconvert_exporter": "python",
   "pygments_lexer": "ipython3",
   "version": "3.9.15"
  },
  "orig_nbformat": 4
 },
 "nbformat": 4,
 "nbformat_minor": 2
}
